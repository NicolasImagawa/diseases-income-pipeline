{
 "cells": [
  {
   "cell_type": "code",
   "execution_count": 1,
   "id": "ec3e38fc-48e7-4cb9-89f4-a00c4bd04b5a",
   "metadata": {},
   "outputs": [],
   "source": [
    "import pandas as pd"
   ]
  },
  {
   "cell_type": "code",
   "execution_count": 19,
   "id": "5ef78a82-2491-40e9-9c3f-b053207f4bbe",
   "metadata": {},
   "outputs": [],
   "source": [
    "filepath = \"../data/raw/fruits_prices.csv\"\n",
    "\n",
    "df = pd.read_csv(filepath)"
   ]
  },
  {
   "cell_type": "code",
   "execution_count": 10,
   "id": "e0b2efe6-b6a7-49d2-93e8-ec3ef1122542",
   "metadata": {},
   "outputs": [
    {
     "data": {
      "text/html": [
       "<div>\n",
       "<style scoped>\n",
       "    .dataframe tbody tr th:only-of-type {\n",
       "        vertical-align: middle;\n",
       "    }\n",
       "\n",
       "    .dataframe tbody tr th {\n",
       "        vertical-align: top;\n",
       "    }\n",
       "\n",
       "    .dataframe thead th {\n",
       "        text-align: right;\n",
       "    }\n",
       "</style>\n",
       "<table border=\"1\" class=\"dataframe\">\n",
       "  <thead>\n",
       "    <tr style=\"text-align: right;\">\n",
       "      <th></th>\n",
       "      <th>Fruit</th>\n",
       "      <th>Form</th>\n",
       "      <th>RetailPrice</th>\n",
       "      <th>RetailPriceUnit</th>\n",
       "      <th>Yield</th>\n",
       "      <th>CupEquivalentSize</th>\n",
       "      <th>CupEquivalentUnit</th>\n",
       "      <th>CupEquivalentPrice</th>\n",
       "    </tr>\n",
       "  </thead>\n",
       "  <tbody>\n",
       "    <tr>\n",
       "      <th>0</th>\n",
       "      <td>Apples</td>\n",
       "      <td>Fresh</td>\n",
       "      <td>1.8541</td>\n",
       "      <td>per pound</td>\n",
       "      <td>0.90</td>\n",
       "      <td>0.2425</td>\n",
       "      <td>pounds</td>\n",
       "      <td>0.4996</td>\n",
       "    </tr>\n",
       "    <tr>\n",
       "      <th>1</th>\n",
       "      <td>Apples, applesauce</td>\n",
       "      <td>Canned</td>\n",
       "      <td>1.1705</td>\n",
       "      <td>per pound</td>\n",
       "      <td>1.00</td>\n",
       "      <td>0.5401</td>\n",
       "      <td>pounds</td>\n",
       "      <td>0.6323</td>\n",
       "    </tr>\n",
       "    <tr>\n",
       "      <th>2</th>\n",
       "      <td>Apples, ready-to-drink</td>\n",
       "      <td>Juice</td>\n",
       "      <td>0.8699</td>\n",
       "      <td>per pint</td>\n",
       "      <td>1.00</td>\n",
       "      <td>8.0000</td>\n",
       "      <td>fluid ounces</td>\n",
       "      <td>0.4349</td>\n",
       "    </tr>\n",
       "    <tr>\n",
       "      <th>3</th>\n",
       "      <td>Apples, frozen concentrate</td>\n",
       "      <td>Juice</td>\n",
       "      <td>0.6086</td>\n",
       "      <td>per pint</td>\n",
       "      <td>1.00</td>\n",
       "      <td>8.0000</td>\n",
       "      <td>fluid ounces</td>\n",
       "      <td>0.3043</td>\n",
       "    </tr>\n",
       "    <tr>\n",
       "      <th>4</th>\n",
       "      <td>Apricots</td>\n",
       "      <td>Fresh</td>\n",
       "      <td>3.6162</td>\n",
       "      <td>per pound</td>\n",
       "      <td>0.93</td>\n",
       "      <td>0.3638</td>\n",
       "      <td>pounds</td>\n",
       "      <td>1.4145</td>\n",
       "    </tr>\n",
       "    <tr>\n",
       "      <th>...</th>\n",
       "      <td>...</td>\n",
       "      <td>...</td>\n",
       "      <td>...</td>\n",
       "      <td>...</td>\n",
       "      <td>...</td>\n",
       "      <td>...</td>\n",
       "      <td>...</td>\n",
       "      <td>...</td>\n",
       "    </tr>\n",
       "    <tr>\n",
       "      <th>57</th>\n",
       "      <td>Raspberries</td>\n",
       "      <td>Fresh</td>\n",
       "      <td>7.7338</td>\n",
       "      <td>per pound</td>\n",
       "      <td>0.96</td>\n",
       "      <td>0.3197</td>\n",
       "      <td>pounds</td>\n",
       "      <td>2.5753</td>\n",
       "    </tr>\n",
       "    <tr>\n",
       "      <th>58</th>\n",
       "      <td>Raspberries</td>\n",
       "      <td>Frozen</td>\n",
       "      <td>6.1590</td>\n",
       "      <td>per pound</td>\n",
       "      <td>1.00</td>\n",
       "      <td>0.3307</td>\n",
       "      <td>pounds</td>\n",
       "      <td>2.0368</td>\n",
       "    </tr>\n",
       "    <tr>\n",
       "      <th>59</th>\n",
       "      <td>Strawberries</td>\n",
       "      <td>Fresh</td>\n",
       "      <td>2.9682</td>\n",
       "      <td>per pound</td>\n",
       "      <td>0.94</td>\n",
       "      <td>0.3197</td>\n",
       "      <td>pounds</td>\n",
       "      <td>1.0094</td>\n",
       "    </tr>\n",
       "    <tr>\n",
       "      <th>60</th>\n",
       "      <td>Strawberries</td>\n",
       "      <td>Frozen</td>\n",
       "      <td>3.3421</td>\n",
       "      <td>per pound</td>\n",
       "      <td>1.00</td>\n",
       "      <td>0.3307</td>\n",
       "      <td>pounds</td>\n",
       "      <td>1.1052</td>\n",
       "    </tr>\n",
       "    <tr>\n",
       "      <th>61</th>\n",
       "      <td>Watermelon</td>\n",
       "      <td>Fresh</td>\n",
       "      <td>0.3820</td>\n",
       "      <td>per pound</td>\n",
       "      <td>0.52</td>\n",
       "      <td>0.3307</td>\n",
       "      <td>pounds</td>\n",
       "      <td>0.2429</td>\n",
       "    </tr>\n",
       "  </tbody>\n",
       "</table>\n",
       "<p>62 rows × 8 columns</p>\n",
       "</div>"
      ],
      "text/plain": [
       "                         Fruit    Form  RetailPrice RetailPriceUnit  Yield  \\\n",
       "0                       Apples   Fresh       1.8541       per pound   0.90   \n",
       "1           Apples, applesauce  Canned       1.1705       per pound   1.00   \n",
       "2       Apples, ready-to-drink   Juice       0.8699        per pint   1.00   \n",
       "3   Apples, frozen concentrate   Juice       0.6086        per pint   1.00   \n",
       "4                     Apricots   Fresh       3.6162       per pound   0.93   \n",
       "..                         ...     ...          ...             ...    ...   \n",
       "57                 Raspberries   Fresh       7.7338       per pound   0.96   \n",
       "58                 Raspberries  Frozen       6.1590       per pound   1.00   \n",
       "59                Strawberries   Fresh       2.9682       per pound   0.94   \n",
       "60                Strawberries  Frozen       3.3421       per pound   1.00   \n",
       "61                  Watermelon   Fresh       0.3820       per pound   0.52   \n",
       "\n",
       "    CupEquivalentSize CupEquivalentUnit  CupEquivalentPrice  \n",
       "0              0.2425            pounds              0.4996  \n",
       "1              0.5401            pounds              0.6323  \n",
       "2              8.0000      fluid ounces              0.4349  \n",
       "3              8.0000      fluid ounces              0.3043  \n",
       "4              0.3638            pounds              1.4145  \n",
       "..                ...               ...                 ...  \n",
       "57             0.3197            pounds              2.5753  \n",
       "58             0.3307            pounds              2.0368  \n",
       "59             0.3197            pounds              1.0094  \n",
       "60             0.3307            pounds              1.1052  \n",
       "61             0.3307            pounds              0.2429  \n",
       "\n",
       "[62 rows x 8 columns]"
      ]
     },
     "execution_count": 10,
     "metadata": {},
     "output_type": "execute_result"
    }
   ],
   "source": [
    "df"
   ]
  },
  {
   "cell_type": "code",
   "execution_count": 20,
   "id": "1c42921a-5c70-4468-9d99-1fe52af9c985",
   "metadata": {},
   "outputs": [
    {
     "data": {
      "text/plain": [
       "Index(['Fruit', 'Form', 'RetailPrice', 'RetailPriceUnit', 'Yield',\n",
       "       'CupEquivalentSize', 'CupEquivalentUnit', 'CupEquivalentPrice'],\n",
       "      dtype='object')"
      ]
     },
     "execution_count": 20,
     "metadata": {},
     "output_type": "execute_result"
    }
   ],
   "source": [
    "df.columns"
   ]
  },
  {
   "cell_type": "code",
   "execution_count": 21,
   "id": "36343560-0842-48bd-b5b4-5c3721425530",
   "metadata": {},
   "outputs": [
    {
     "data": {
      "text/plain": [
       "Fruit                  object\n",
       "Form                   object\n",
       "RetailPrice           float64\n",
       "RetailPriceUnit        object\n",
       "Yield                 float64\n",
       "CupEquivalentSize     float64\n",
       "CupEquivalentUnit      object\n",
       "CupEquivalentPrice    float64\n",
       "dtype: object"
      ]
     },
     "execution_count": 21,
     "metadata": {},
     "output_type": "execute_result"
    }
   ],
   "source": [
    "df.dtypes"
   ]
  },
  {
   "cell_type": "code",
   "execution_count": 22,
   "id": "3105f93d-be45-417f-863a-5182eee5d967",
   "metadata": {},
   "outputs": [],
   "source": [
    "df.columns = ['fruit', 'form', 'retail_price', 'retail_price_unit', 'yield','cup_equivalent_size', 'cup_equivalent_unit', 'cup_equivalent_price']"
   ]
  },
  {
   "cell_type": "code",
   "execution_count": 23,
   "id": "65ec54ee-59b3-470f-8be6-c9ccbccd57a1",
   "metadata": {},
   "outputs": [
    {
     "data": {
      "text/plain": [
       "Index(['fruit', 'form', 'retail_price', 'retail_price_unit', 'yield',\n",
       "       'cup_equivalent_size', 'cup_equivalent_unit', 'cup_equivalent_price'],\n",
       "      dtype='object')"
      ]
     },
     "execution_count": 23,
     "metadata": {},
     "output_type": "execute_result"
    }
   ],
   "source": [
    "df.columns"
   ]
  },
  {
   "cell_type": "code",
   "execution_count": 24,
   "id": "2bfc3150-27a6-4973-ba80-02d782a9abaa",
   "metadata": {},
   "outputs": [
    {
     "data": {
      "text/html": [
       "<div>\n",
       "<style scoped>\n",
       "    .dataframe tbody tr th:only-of-type {\n",
       "        vertical-align: middle;\n",
       "    }\n",
       "\n",
       "    .dataframe tbody tr th {\n",
       "        vertical-align: top;\n",
       "    }\n",
       "\n",
       "    .dataframe thead th {\n",
       "        text-align: right;\n",
       "    }\n",
       "</style>\n",
       "<table border=\"1\" class=\"dataframe\">\n",
       "  <thead>\n",
       "    <tr style=\"text-align: right;\">\n",
       "      <th></th>\n",
       "      <th>fruit</th>\n",
       "      <th>form</th>\n",
       "      <th>retail_price</th>\n",
       "      <th>retail_price_unit</th>\n",
       "      <th>yield</th>\n",
       "      <th>cup_equivalent_size</th>\n",
       "      <th>cup_equivalent_unit</th>\n",
       "      <th>cup_equivalent_price</th>\n",
       "    </tr>\n",
       "  </thead>\n",
       "  <tbody>\n",
       "    <tr>\n",
       "      <th>0</th>\n",
       "      <td>Apples</td>\n",
       "      <td>Fresh</td>\n",
       "      <td>1.8541</td>\n",
       "      <td>per pound</td>\n",
       "      <td>0.90</td>\n",
       "      <td>0.2425</td>\n",
       "      <td>pounds</td>\n",
       "      <td>0.4996</td>\n",
       "    </tr>\n",
       "    <tr>\n",
       "      <th>1</th>\n",
       "      <td>Apples, applesauce</td>\n",
       "      <td>Canned</td>\n",
       "      <td>1.1705</td>\n",
       "      <td>per pound</td>\n",
       "      <td>1.00</td>\n",
       "      <td>0.5401</td>\n",
       "      <td>pounds</td>\n",
       "      <td>0.6323</td>\n",
       "    </tr>\n",
       "    <tr>\n",
       "      <th>2</th>\n",
       "      <td>Apples, ready-to-drink</td>\n",
       "      <td>Juice</td>\n",
       "      <td>0.8699</td>\n",
       "      <td>per pint</td>\n",
       "      <td>1.00</td>\n",
       "      <td>8.0000</td>\n",
       "      <td>fluid ounces</td>\n",
       "      <td>0.4349</td>\n",
       "    </tr>\n",
       "    <tr>\n",
       "      <th>3</th>\n",
       "      <td>Apples, frozen concentrate</td>\n",
       "      <td>Juice</td>\n",
       "      <td>0.6086</td>\n",
       "      <td>per pint</td>\n",
       "      <td>1.00</td>\n",
       "      <td>8.0000</td>\n",
       "      <td>fluid ounces</td>\n",
       "      <td>0.3043</td>\n",
       "    </tr>\n",
       "    <tr>\n",
       "      <th>4</th>\n",
       "      <td>Apricots</td>\n",
       "      <td>Fresh</td>\n",
       "      <td>3.6162</td>\n",
       "      <td>per pound</td>\n",
       "      <td>0.93</td>\n",
       "      <td>0.3638</td>\n",
       "      <td>pounds</td>\n",
       "      <td>1.4145</td>\n",
       "    </tr>\n",
       "    <tr>\n",
       "      <th>...</th>\n",
       "      <td>...</td>\n",
       "      <td>...</td>\n",
       "      <td>...</td>\n",
       "      <td>...</td>\n",
       "      <td>...</td>\n",
       "      <td>...</td>\n",
       "      <td>...</td>\n",
       "      <td>...</td>\n",
       "    </tr>\n",
       "    <tr>\n",
       "      <th>57</th>\n",
       "      <td>Raspberries</td>\n",
       "      <td>Fresh</td>\n",
       "      <td>7.7338</td>\n",
       "      <td>per pound</td>\n",
       "      <td>0.96</td>\n",
       "      <td>0.3197</td>\n",
       "      <td>pounds</td>\n",
       "      <td>2.5753</td>\n",
       "    </tr>\n",
       "    <tr>\n",
       "      <th>58</th>\n",
       "      <td>Raspberries</td>\n",
       "      <td>Frozen</td>\n",
       "      <td>6.1590</td>\n",
       "      <td>per pound</td>\n",
       "      <td>1.00</td>\n",
       "      <td>0.3307</td>\n",
       "      <td>pounds</td>\n",
       "      <td>2.0368</td>\n",
       "    </tr>\n",
       "    <tr>\n",
       "      <th>59</th>\n",
       "      <td>Strawberries</td>\n",
       "      <td>Fresh</td>\n",
       "      <td>2.9682</td>\n",
       "      <td>per pound</td>\n",
       "      <td>0.94</td>\n",
       "      <td>0.3197</td>\n",
       "      <td>pounds</td>\n",
       "      <td>1.0094</td>\n",
       "    </tr>\n",
       "    <tr>\n",
       "      <th>60</th>\n",
       "      <td>Strawberries</td>\n",
       "      <td>Frozen</td>\n",
       "      <td>3.3421</td>\n",
       "      <td>per pound</td>\n",
       "      <td>1.00</td>\n",
       "      <td>0.3307</td>\n",
       "      <td>pounds</td>\n",
       "      <td>1.1052</td>\n",
       "    </tr>\n",
       "    <tr>\n",
       "      <th>61</th>\n",
       "      <td>Watermelon</td>\n",
       "      <td>Fresh</td>\n",
       "      <td>0.3820</td>\n",
       "      <td>per pound</td>\n",
       "      <td>0.52</td>\n",
       "      <td>0.3307</td>\n",
       "      <td>pounds</td>\n",
       "      <td>0.2429</td>\n",
       "    </tr>\n",
       "  </tbody>\n",
       "</table>\n",
       "<p>62 rows × 8 columns</p>\n",
       "</div>"
      ],
      "text/plain": [
       "                         fruit    form  retail_price retail_price_unit  yield  \\\n",
       "0                       Apples   Fresh        1.8541         per pound   0.90   \n",
       "1           Apples, applesauce  Canned        1.1705         per pound   1.00   \n",
       "2       Apples, ready-to-drink   Juice        0.8699          per pint   1.00   \n",
       "3   Apples, frozen concentrate   Juice        0.6086          per pint   1.00   \n",
       "4                     Apricots   Fresh        3.6162         per pound   0.93   \n",
       "..                         ...     ...           ...               ...    ...   \n",
       "57                 Raspberries   Fresh        7.7338         per pound   0.96   \n",
       "58                 Raspberries  Frozen        6.1590         per pound   1.00   \n",
       "59                Strawberries   Fresh        2.9682         per pound   0.94   \n",
       "60                Strawberries  Frozen        3.3421         per pound   1.00   \n",
       "61                  Watermelon   Fresh        0.3820         per pound   0.52   \n",
       "\n",
       "    cup_equivalent_size cup_equivalent_unit  cup_equivalent_price  \n",
       "0                0.2425              pounds                0.4996  \n",
       "1                0.5401              pounds                0.6323  \n",
       "2                8.0000        fluid ounces                0.4349  \n",
       "3                8.0000        fluid ounces                0.3043  \n",
       "4                0.3638              pounds                1.4145  \n",
       "..                  ...                 ...                   ...  \n",
       "57               0.3197              pounds                2.5753  \n",
       "58               0.3307              pounds                2.0368  \n",
       "59               0.3197              pounds                1.0094  \n",
       "60               0.3307              pounds                1.1052  \n",
       "61               0.3307              pounds                0.2429  \n",
       "\n",
       "[62 rows x 8 columns]"
      ]
     },
     "execution_count": 24,
     "metadata": {},
     "output_type": "execute_result"
    }
   ],
   "source": [
    "df"
   ]
  },
  {
   "cell_type": "code",
   "execution_count": 36,
   "id": "6d3f55cf-077d-4be2-bfd8-33d75eb5b170",
   "metadata": {},
   "outputs": [
    {
     "name": "stdout",
     "output_type": "stream",
     "text": [
      "0\n"
     ]
    }
   ],
   "source": [
    "#checking if retail_price has zeroes, negative values or Nones\n",
    "\n",
    "zeroes = (df[\"retail_price\"] == 0).sum()\n",
    "print(zeroes)"
   ]
  },
  {
   "cell_type": "code",
   "execution_count": 35,
   "id": "56ce0081-2e30-4c43-9798-cf430dfdddbd",
   "metadata": {},
   "outputs": [
    {
     "name": "stdout",
     "output_type": "stream",
     "text": [
      "0\n"
     ]
    }
   ],
   "source": [
    "negative = (df[\"retail_price\"] < 0).sum()\n",
    "print(negative)"
   ]
  },
  {
   "cell_type": "code",
   "execution_count": 29,
   "id": "998b0d30-635c-4259-851d-3619d7ebd6b6",
   "metadata": {},
   "outputs": [
    {
     "name": "stdout",
     "output_type": "stream",
     "text": [
      "0\n"
     ]
    }
   ],
   "source": [
    "nones = (df[\"retail_price\"] == None).sum()\n",
    "print(nones)"
   ]
  },
  {
   "cell_type": "code",
   "execution_count": 34,
   "id": "97d720e6-4658-4e1f-be94-9712e9fc48c7",
   "metadata": {},
   "outputs": [
    {
     "name": "stdout",
     "output_type": "stream",
     "text": [
      "['per pound' 'per pint']\n"
     ]
    }
   ],
   "source": [
    "#Checking what retail_price_unit exists\n",
    "\n",
    "distinct_units = pd.Series(df[\"retail_price_unit\"]).unique()\n",
    "print(distinct_units)"
   ]
  },
  {
   "cell_type": "code",
   "execution_count": 38,
   "id": "befb1e97-b768-4738-b9c7-f2fe700c4d42",
   "metadata": {},
   "outputs": [
    {
     "name": "stdout",
     "output_type": "stream",
     "text": [
      "0\n"
     ]
    }
   ],
   "source": [
    "#Checking for fruit name missing values\n",
    "\n",
    "no_names = pd.Series(df[\"retail_price_unit\"] == None).sum()\n",
    "print(no_names)"
   ]
  },
  {
   "cell_type": "code",
   "execution_count": 40,
   "id": "1d99821e-3da3-4227-9cc0-5ae7df0b9713",
   "metadata": {},
   "outputs": [],
   "source": [
    "df.to_csv(\"../data/clean/fruits_prices.csv\")"
   ]
  }
 ],
 "metadata": {
  "kernelspec": {
   "display_name": "Python 3 (ipykernel)",
   "language": "python",
   "name": "python3"
  },
  "language_info": {
   "codemirror_mode": {
    "name": "ipython",
    "version": 3
   },
   "file_extension": ".py",
   "mimetype": "text/x-python",
   "name": "python",
   "nbconvert_exporter": "python",
   "pygments_lexer": "ipython3",
   "version": "3.9.13"
  }
 },
 "nbformat": 4,
 "nbformat_minor": 5
}
