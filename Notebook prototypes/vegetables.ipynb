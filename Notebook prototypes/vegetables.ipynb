{
 "cells": [
  {
   "cell_type": "code",
   "execution_count": 1,
   "id": "ec3e38fc-48e7-4cb9-89f4-a00c4bd04b5a",
   "metadata": {},
   "outputs": [],
   "source": [
    "import pandas as pd"
   ]
  },
  {
   "cell_type": "code",
   "execution_count": 2,
   "id": "5ef78a82-2491-40e9-9c3f-b053207f4bbe",
   "metadata": {},
   "outputs": [],
   "source": [
    "filepath = \"../data/raw/vegetables_prices.csv\"\n",
    "\n",
    "df = pd.read_csv(filepath)"
   ]
  },
  {
   "cell_type": "code",
   "execution_count": 3,
   "id": "e0b2efe6-b6a7-49d2-93e8-ec3ef1122542",
   "metadata": {},
   "outputs": [
    {
     "data": {
      "text/html": [
       "<div>\n",
       "<style scoped>\n",
       "    .dataframe tbody tr th:only-of-type {\n",
       "        vertical-align: middle;\n",
       "    }\n",
       "\n",
       "    .dataframe tbody tr th {\n",
       "        vertical-align: top;\n",
       "    }\n",
       "\n",
       "    .dataframe thead th {\n",
       "        text-align: right;\n",
       "    }\n",
       "</style>\n",
       "<table border=\"1\" class=\"dataframe\">\n",
       "  <thead>\n",
       "    <tr style=\"text-align: right;\">\n",
       "      <th></th>\n",
       "      <th>Vegetable</th>\n",
       "      <th>Form</th>\n",
       "      <th>RetailPrice</th>\n",
       "      <th>RetailPriceUnit</th>\n",
       "      <th>Yield</th>\n",
       "      <th>CupEquivalentSize</th>\n",
       "      <th>CupEquivalentUnit</th>\n",
       "      <th>CupEquivalentPrice</th>\n",
       "    </tr>\n",
       "  </thead>\n",
       "  <tbody>\n",
       "    <tr>\n",
       "      <th>0</th>\n",
       "      <td>Acorn squash</td>\n",
       "      <td>Fresh</td>\n",
       "      <td>1.2136</td>\n",
       "      <td>per pound</td>\n",
       "      <td>0.4586</td>\n",
       "      <td>0.4519</td>\n",
       "      <td>pounds</td>\n",
       "      <td>1.1961</td>\n",
       "    </tr>\n",
       "    <tr>\n",
       "      <th>1</th>\n",
       "      <td>Artichoke</td>\n",
       "      <td>Fresh</td>\n",
       "      <td>2.4703</td>\n",
       "      <td>per pound</td>\n",
       "      <td>0.3750</td>\n",
       "      <td>0.3858</td>\n",
       "      <td>pounds</td>\n",
       "      <td>2.5415</td>\n",
       "    </tr>\n",
       "    <tr>\n",
       "      <th>2</th>\n",
       "      <td>Artichoke</td>\n",
       "      <td>Canned</td>\n",
       "      <td>3.4498</td>\n",
       "      <td>per pound</td>\n",
       "      <td>0.6500</td>\n",
       "      <td>0.3858</td>\n",
       "      <td>pounds</td>\n",
       "      <td>2.0476</td>\n",
       "    </tr>\n",
       "    <tr>\n",
       "      <th>3</th>\n",
       "      <td>Asparagus</td>\n",
       "      <td>Fresh</td>\n",
       "      <td>2.9531</td>\n",
       "      <td>per pound</td>\n",
       "      <td>0.4938</td>\n",
       "      <td>0.3968</td>\n",
       "      <td>pounds</td>\n",
       "      <td>2.3731</td>\n",
       "    </tr>\n",
       "    <tr>\n",
       "      <th>4</th>\n",
       "      <td>Asparagus</td>\n",
       "      <td>Canned</td>\n",
       "      <td>3.4328</td>\n",
       "      <td>per pound</td>\n",
       "      <td>0.6500</td>\n",
       "      <td>0.3968</td>\n",
       "      <td>pounds</td>\n",
       "      <td>2.0958</td>\n",
       "    </tr>\n",
       "    <tr>\n",
       "      <th>...</th>\n",
       "      <td>...</td>\n",
       "      <td>...</td>\n",
       "      <td>...</td>\n",
       "      <td>...</td>\n",
       "      <td>...</td>\n",
       "      <td>...</td>\n",
       "      <td>...</td>\n",
       "      <td>...</td>\n",
       "    </tr>\n",
       "    <tr>\n",
       "      <th>88</th>\n",
       "      <td>Tomatoes</td>\n",
       "      <td>Canned</td>\n",
       "      <td>1.0715</td>\n",
       "      <td>per pound</td>\n",
       "      <td>1.0000</td>\n",
       "      <td>0.5401</td>\n",
       "      <td>pounds</td>\n",
       "      <td>0.5787</td>\n",
       "    </tr>\n",
       "    <tr>\n",
       "      <th>89</th>\n",
       "      <td>Turnip greens</td>\n",
       "      <td>Fresh</td>\n",
       "      <td>2.9250</td>\n",
       "      <td>per pound</td>\n",
       "      <td>0.7500</td>\n",
       "      <td>0.3197</td>\n",
       "      <td>pounds</td>\n",
       "      <td>1.2467</td>\n",
       "    </tr>\n",
       "    <tr>\n",
       "      <th>90</th>\n",
       "      <td>Turnip greens</td>\n",
       "      <td>Canned</td>\n",
       "      <td>1.3154</td>\n",
       "      <td>per pound</td>\n",
       "      <td>0.6500</td>\n",
       "      <td>0.3527</td>\n",
       "      <td>pounds</td>\n",
       "      <td>0.7138</td>\n",
       "    </tr>\n",
       "    <tr>\n",
       "      <th>91</th>\n",
       "      <td>Turnip greens</td>\n",
       "      <td>Frozen</td>\n",
       "      <td>2.5169</td>\n",
       "      <td>per pound</td>\n",
       "      <td>0.7760</td>\n",
       "      <td>0.3527</td>\n",
       "      <td>pounds</td>\n",
       "      <td>1.1440</td>\n",
       "    </tr>\n",
       "    <tr>\n",
       "      <th>92</th>\n",
       "      <td>Zucchini</td>\n",
       "      <td>Fresh</td>\n",
       "      <td>1.6359</td>\n",
       "      <td>per pound</td>\n",
       "      <td>0.7695</td>\n",
       "      <td>0.3968</td>\n",
       "      <td>pounds</td>\n",
       "      <td>0.8437</td>\n",
       "    </tr>\n",
       "  </tbody>\n",
       "</table>\n",
       "<p>93 rows × 8 columns</p>\n",
       "</div>"
      ],
      "text/plain": [
       "        Vegetable    Form  RetailPrice RetailPriceUnit   Yield  \\\n",
       "0    Acorn squash   Fresh       1.2136       per pound  0.4586   \n",
       "1       Artichoke   Fresh       2.4703       per pound  0.3750   \n",
       "2       Artichoke  Canned       3.4498       per pound  0.6500   \n",
       "3       Asparagus   Fresh       2.9531       per pound  0.4938   \n",
       "4       Asparagus  Canned       3.4328       per pound  0.6500   \n",
       "..            ...     ...          ...             ...     ...   \n",
       "88       Tomatoes  Canned       1.0715       per pound  1.0000   \n",
       "89  Turnip greens   Fresh       2.9250       per pound  0.7500   \n",
       "90  Turnip greens  Canned       1.3154       per pound  0.6500   \n",
       "91  Turnip greens  Frozen       2.5169       per pound  0.7760   \n",
       "92       Zucchini   Fresh       1.6359       per pound  0.7695   \n",
       "\n",
       "    CupEquivalentSize CupEquivalentUnit  CupEquivalentPrice  \n",
       "0              0.4519            pounds              1.1961  \n",
       "1              0.3858            pounds              2.5415  \n",
       "2              0.3858            pounds              2.0476  \n",
       "3              0.3968            pounds              2.3731  \n",
       "4              0.3968            pounds              2.0958  \n",
       "..                ...               ...                 ...  \n",
       "88             0.5401            pounds              0.5787  \n",
       "89             0.3197            pounds              1.2467  \n",
       "90             0.3527            pounds              0.7138  \n",
       "91             0.3527            pounds              1.1440  \n",
       "92             0.3968            pounds              0.8437  \n",
       "\n",
       "[93 rows x 8 columns]"
      ]
     },
     "execution_count": 3,
     "metadata": {},
     "output_type": "execute_result"
    }
   ],
   "source": [
    "df"
   ]
  },
  {
   "cell_type": "code",
   "execution_count": 4,
   "id": "1c42921a-5c70-4468-9d99-1fe52af9c985",
   "metadata": {},
   "outputs": [
    {
     "data": {
      "text/plain": [
       "Index(['Vegetable', 'Form', 'RetailPrice', 'RetailPriceUnit', 'Yield',\n",
       "       'CupEquivalentSize', 'CupEquivalentUnit', 'CupEquivalentPrice'],\n",
       "      dtype='object')"
      ]
     },
     "execution_count": 4,
     "metadata": {},
     "output_type": "execute_result"
    }
   ],
   "source": [
    "df.columns"
   ]
  },
  {
   "cell_type": "code",
   "execution_count": 21,
   "id": "36343560-0842-48bd-b5b4-5c3721425530",
   "metadata": {},
   "outputs": [
    {
     "data": {
      "text/plain": [
       "Fruit                  object\n",
       "Form                   object\n",
       "RetailPrice           float64\n",
       "RetailPriceUnit        object\n",
       "Yield                 float64\n",
       "CupEquivalentSize     float64\n",
       "CupEquivalentUnit      object\n",
       "CupEquivalentPrice    float64\n",
       "dtype: object"
      ]
     },
     "execution_count": 21,
     "metadata": {},
     "output_type": "execute_result"
    }
   ],
   "source": [
    "df.dtypes"
   ]
  },
  {
   "cell_type": "code",
   "execution_count": 7,
   "id": "3105f93d-be45-417f-863a-5182eee5d967",
   "metadata": {},
   "outputs": [],
   "source": [
    "df.columns = ['vegetable', 'form', 'retail_price', 'retail_price_unit', 'yield','cup_equivalent_size', 'cup_equivalent_unit', 'cup_equivalent_price']"
   ]
  },
  {
   "cell_type": "code",
   "execution_count": 8,
   "id": "65ec54ee-59b3-470f-8be6-c9ccbccd57a1",
   "metadata": {},
   "outputs": [
    {
     "data": {
      "text/plain": [
       "Index(['vegetable', 'form', 'retail_price', 'retail_price_unit', 'yield',\n",
       "       'cup_equivalent_size', 'cup_equivalent_unit', 'cup_equivalent_price'],\n",
       "      dtype='object')"
      ]
     },
     "execution_count": 8,
     "metadata": {},
     "output_type": "execute_result"
    }
   ],
   "source": [
    "df.columns"
   ]
  },
  {
   "cell_type": "code",
   "execution_count": 9,
   "id": "2bfc3150-27a6-4973-ba80-02d782a9abaa",
   "metadata": {},
   "outputs": [
    {
     "data": {
      "text/html": [
       "<div>\n",
       "<style scoped>\n",
       "    .dataframe tbody tr th:only-of-type {\n",
       "        vertical-align: middle;\n",
       "    }\n",
       "\n",
       "    .dataframe tbody tr th {\n",
       "        vertical-align: top;\n",
       "    }\n",
       "\n",
       "    .dataframe thead th {\n",
       "        text-align: right;\n",
       "    }\n",
       "</style>\n",
       "<table border=\"1\" class=\"dataframe\">\n",
       "  <thead>\n",
       "    <tr style=\"text-align: right;\">\n",
       "      <th></th>\n",
       "      <th>vegetable</th>\n",
       "      <th>form</th>\n",
       "      <th>retail_price</th>\n",
       "      <th>retail_price_unit</th>\n",
       "      <th>yield</th>\n",
       "      <th>cup_equivalent_size</th>\n",
       "      <th>cup_equivalent_unit</th>\n",
       "      <th>cup_equivalent_price</th>\n",
       "    </tr>\n",
       "  </thead>\n",
       "  <tbody>\n",
       "    <tr>\n",
       "      <th>0</th>\n",
       "      <td>Acorn squash</td>\n",
       "      <td>Fresh</td>\n",
       "      <td>1.2136</td>\n",
       "      <td>per pound</td>\n",
       "      <td>0.4586</td>\n",
       "      <td>0.4519</td>\n",
       "      <td>pounds</td>\n",
       "      <td>1.1961</td>\n",
       "    </tr>\n",
       "    <tr>\n",
       "      <th>1</th>\n",
       "      <td>Artichoke</td>\n",
       "      <td>Fresh</td>\n",
       "      <td>2.4703</td>\n",
       "      <td>per pound</td>\n",
       "      <td>0.3750</td>\n",
       "      <td>0.3858</td>\n",
       "      <td>pounds</td>\n",
       "      <td>2.5415</td>\n",
       "    </tr>\n",
       "    <tr>\n",
       "      <th>2</th>\n",
       "      <td>Artichoke</td>\n",
       "      <td>Canned</td>\n",
       "      <td>3.4498</td>\n",
       "      <td>per pound</td>\n",
       "      <td>0.6500</td>\n",
       "      <td>0.3858</td>\n",
       "      <td>pounds</td>\n",
       "      <td>2.0476</td>\n",
       "    </tr>\n",
       "    <tr>\n",
       "      <th>3</th>\n",
       "      <td>Asparagus</td>\n",
       "      <td>Fresh</td>\n",
       "      <td>2.9531</td>\n",
       "      <td>per pound</td>\n",
       "      <td>0.4938</td>\n",
       "      <td>0.3968</td>\n",
       "      <td>pounds</td>\n",
       "      <td>2.3731</td>\n",
       "    </tr>\n",
       "    <tr>\n",
       "      <th>4</th>\n",
       "      <td>Asparagus</td>\n",
       "      <td>Canned</td>\n",
       "      <td>3.4328</td>\n",
       "      <td>per pound</td>\n",
       "      <td>0.6500</td>\n",
       "      <td>0.3968</td>\n",
       "      <td>pounds</td>\n",
       "      <td>2.0958</td>\n",
       "    </tr>\n",
       "    <tr>\n",
       "      <th>...</th>\n",
       "      <td>...</td>\n",
       "      <td>...</td>\n",
       "      <td>...</td>\n",
       "      <td>...</td>\n",
       "      <td>...</td>\n",
       "      <td>...</td>\n",
       "      <td>...</td>\n",
       "      <td>...</td>\n",
       "    </tr>\n",
       "    <tr>\n",
       "      <th>88</th>\n",
       "      <td>Tomatoes</td>\n",
       "      <td>Canned</td>\n",
       "      <td>1.0715</td>\n",
       "      <td>per pound</td>\n",
       "      <td>1.0000</td>\n",
       "      <td>0.5401</td>\n",
       "      <td>pounds</td>\n",
       "      <td>0.5787</td>\n",
       "    </tr>\n",
       "    <tr>\n",
       "      <th>89</th>\n",
       "      <td>Turnip greens</td>\n",
       "      <td>Fresh</td>\n",
       "      <td>2.9250</td>\n",
       "      <td>per pound</td>\n",
       "      <td>0.7500</td>\n",
       "      <td>0.3197</td>\n",
       "      <td>pounds</td>\n",
       "      <td>1.2467</td>\n",
       "    </tr>\n",
       "    <tr>\n",
       "      <th>90</th>\n",
       "      <td>Turnip greens</td>\n",
       "      <td>Canned</td>\n",
       "      <td>1.3154</td>\n",
       "      <td>per pound</td>\n",
       "      <td>0.6500</td>\n",
       "      <td>0.3527</td>\n",
       "      <td>pounds</td>\n",
       "      <td>0.7138</td>\n",
       "    </tr>\n",
       "    <tr>\n",
       "      <th>91</th>\n",
       "      <td>Turnip greens</td>\n",
       "      <td>Frozen</td>\n",
       "      <td>2.5169</td>\n",
       "      <td>per pound</td>\n",
       "      <td>0.7760</td>\n",
       "      <td>0.3527</td>\n",
       "      <td>pounds</td>\n",
       "      <td>1.1440</td>\n",
       "    </tr>\n",
       "    <tr>\n",
       "      <th>92</th>\n",
       "      <td>Zucchini</td>\n",
       "      <td>Fresh</td>\n",
       "      <td>1.6359</td>\n",
       "      <td>per pound</td>\n",
       "      <td>0.7695</td>\n",
       "      <td>0.3968</td>\n",
       "      <td>pounds</td>\n",
       "      <td>0.8437</td>\n",
       "    </tr>\n",
       "  </tbody>\n",
       "</table>\n",
       "<p>93 rows × 8 columns</p>\n",
       "</div>"
      ],
      "text/plain": [
       "        vegetable    form  retail_price retail_price_unit   yield  \\\n",
       "0    Acorn squash   Fresh        1.2136         per pound  0.4586   \n",
       "1       Artichoke   Fresh        2.4703         per pound  0.3750   \n",
       "2       Artichoke  Canned        3.4498         per pound  0.6500   \n",
       "3       Asparagus   Fresh        2.9531         per pound  0.4938   \n",
       "4       Asparagus  Canned        3.4328         per pound  0.6500   \n",
       "..            ...     ...           ...               ...     ...   \n",
       "88       Tomatoes  Canned        1.0715         per pound  1.0000   \n",
       "89  Turnip greens   Fresh        2.9250         per pound  0.7500   \n",
       "90  Turnip greens  Canned        1.3154         per pound  0.6500   \n",
       "91  Turnip greens  Frozen        2.5169         per pound  0.7760   \n",
       "92       Zucchini   Fresh        1.6359         per pound  0.7695   \n",
       "\n",
       "    cup_equivalent_size cup_equivalent_unit  cup_equivalent_price  \n",
       "0                0.4519              pounds                1.1961  \n",
       "1                0.3858              pounds                2.5415  \n",
       "2                0.3858              pounds                2.0476  \n",
       "3                0.3968              pounds                2.3731  \n",
       "4                0.3968              pounds                2.0958  \n",
       "..                  ...                 ...                   ...  \n",
       "88               0.5401              pounds                0.5787  \n",
       "89               0.3197              pounds                1.2467  \n",
       "90               0.3527              pounds                0.7138  \n",
       "91               0.3527              pounds                1.1440  \n",
       "92               0.3968              pounds                0.8437  \n",
       "\n",
       "[93 rows x 8 columns]"
      ]
     },
     "execution_count": 9,
     "metadata": {},
     "output_type": "execute_result"
    }
   ],
   "source": [
    "df"
   ]
  },
  {
   "cell_type": "code",
   "execution_count": 10,
   "id": "6d3f55cf-077d-4be2-bfd8-33d75eb5b170",
   "metadata": {},
   "outputs": [
    {
     "name": "stdout",
     "output_type": "stream",
     "text": [
      "0\n"
     ]
    }
   ],
   "source": [
    "#checking if retail_price has zeroes, negative values or Nones\n",
    "\n",
    "zeroes = (df[\"retail_price\"] == 0).sum()\n",
    "print(zeroes)"
   ]
  },
  {
   "cell_type": "code",
   "execution_count": 11,
   "id": "56ce0081-2e30-4c43-9798-cf430dfdddbd",
   "metadata": {},
   "outputs": [
    {
     "name": "stdout",
     "output_type": "stream",
     "text": [
      "0\n"
     ]
    }
   ],
   "source": [
    "negative = (df[\"retail_price\"] < 0).sum()\n",
    "print(negative)"
   ]
  },
  {
   "cell_type": "code",
   "execution_count": 12,
   "id": "998b0d30-635c-4259-851d-3619d7ebd6b6",
   "metadata": {},
   "outputs": [
    {
     "name": "stdout",
     "output_type": "stream",
     "text": [
      "0\n"
     ]
    }
   ],
   "source": [
    "nones = (df[\"retail_price\"] == None).sum()\n",
    "print(nones)"
   ]
  },
  {
   "cell_type": "code",
   "execution_count": 13,
   "id": "97d720e6-4658-4e1f-be94-9712e9fc48c7",
   "metadata": {},
   "outputs": [
    {
     "name": "stdout",
     "output_type": "stream",
     "text": [
      "['per pound']\n"
     ]
    }
   ],
   "source": [
    "#Checking what retail_price_unit exists\n",
    "\n",
    "distinct_units = pd.Series(df[\"retail_price_unit\"]).unique()\n",
    "print(distinct_units)"
   ]
  },
  {
   "cell_type": "code",
   "execution_count": 14,
   "id": "befb1e97-b768-4738-b9c7-f2fe700c4d42",
   "metadata": {},
   "outputs": [
    {
     "name": "stdout",
     "output_type": "stream",
     "text": [
      "0\n"
     ]
    }
   ],
   "source": [
    "#Checking for fruit name missing values\n",
    "\n",
    "no_names = pd.Series(df[\"vegetable\"] == None).sum()\n",
    "print(no_names)"
   ]
  },
  {
   "cell_type": "code",
   "execution_count": 40,
   "id": "1d99821e-3da3-4227-9cc0-5ae7df0b9713",
   "metadata": {},
   "outputs": [],
   "source": [
    "df.to_csv(\"../data/clean/vegetable_prices.csv\")"
   ]
  }
 ],
 "metadata": {
  "kernelspec": {
   "display_name": "Python 3 (ipykernel)",
   "language": "python",
   "name": "python3"
  },
  "language_info": {
   "codemirror_mode": {
    "name": "ipython",
    "version": 3
   },
   "file_extension": ".py",
   "mimetype": "text/x-python",
   "name": "python",
   "nbconvert_exporter": "python",
   "pygments_lexer": "ipython3",
   "version": "3.9.13"
  }
 },
 "nbformat": 4,
 "nbformat_minor": 5
}
